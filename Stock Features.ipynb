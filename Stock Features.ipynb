{
 "cells": [
  {
   "cell_type": "code",
   "execution_count": 22,
   "metadata": {},
   "outputs": [],
   "source": [
    "### INITIALIZING AND DATA GATHERING ###\n",
    "import pandas\n",
    "import numpy\n",
    "pandas.set_option('display.max_columns',500)\n",
    "pandas.set_option('display.max_rows',700)\n",
    "pandas.set_option('display.float_format', lambda x: '%.2f' % x)\n",
    "import matplotlib.pyplot as plt\n",
    "import scipy.stats as st\n",
    "import requests\n",
    "import json\n",
    "from pandas.io.json import json_normalize\n",
    "from numpy.random import choice\n",
    "from collections import Counter\n",
    "import math\n",
    "\n",
    "\n",
    "# ------------------ uncomment the section below to refresh time series actuals data ------------------------\n",
    "\n",
    "#Tiingo: equity and forex info https://api.tiingo.com/documentation/end-of-day\n",
    "# headers = {\n",
    "#     'Content-Type': 'application/json'\n",
    "# }\n",
    "\n",
    "# with open('tiingo_config.json') as config_file:\n",
    "#     config_data = json.load(config_file)\n",
    "\n",
    "# token = config_data['token']\n",
    "\n",
    "# #Equity data\n",
    "# start = '2018-01-01'\n",
    "# end = '2020-12-31'\n",
    "# agg = 'daily' #daily, weekly, monthly, annually\n",
    "# responses = pandas.DataFrame(columns = ['date','close','high','low','open','volume','adjClose','adjHigh','adjLow','adjOpen','adjVolume','divCash','splitFactor','name'])\n",
    "# ticker_list =['LYFT','CCL','MTCH','GRUB','DIS','TSLA','NLY','FNKO','HPE','ACB','KHC','LEVI','PYPL','IAU','GBTC','RSP','BLL','LTC','DDOG','FANG','GE','WWE']\n",
    "\n",
    "# for ticker in ticker_list:\n",
    "#     r = requests.get('https://api.tiingo.com/tiingo/daily/'+ticker+'/prices?startDate='+start+'&endDate='+end+'&resampleFreq='+agg+'&token='+token, headers=headers)\n",
    "#     j = r.json()\n",
    "#     df = pandas.DataFrame(json_normalize(j))\n",
    "#     df['name'] = ticker\n",
    "#     responses = pandas.concat([responses, df], axis=0)\n",
    "\n",
    "# responses['date'] = pandas.to_datetime(responses['date']).apply(lambda x: x.date())\n",
    "# responses.to_csv('stock_time_series.csv')\n",
    "\n",
    "# -----------------------------------------------------------------------------------------------------\n",
    "\n",
    "################ user inputs required here ###############\n",
    "trailing_days = 50\n",
    "symbol = 'DIS'\n",
    "fcst_start_date = '2020-09-02'\n",
    "model_start_date = '2018-01-01'\n",
    "model_end_date = '2020-12-31'\n",
    "simulations = 10000\n",
    "##########################################################\n",
    "\n",
    "data = pandas.read_csv('stock_time_series.csv')\n",
    "data = data.drop(['Unnamed: 0','close','high','low','volume','open','adjHigh','adjLow','splitFactor'],axis=1)\n",
    "data['date'] = pandas.to_datetime(data['date'])\n",
    "data = data.set_index('date')\n",
    "data['MA5'] = data.groupby('name')['adjClose'].transform(lambda x: x.rolling(5, 1).mean())\n",
    "data['MA10'] = data.groupby('name')['adjClose'].transform(lambda x: x.rolling(10, 1).mean())\n",
    "data['Vol5'] = data.groupby('name')['adjVolume'].transform(lambda x: x.rolling(5, 1).mean())\n",
    "data['Vol10'] = data.groupby('name')['adjVolume'].transform(lambda x: x.rolling(10, 1).mean())\n",
    "data['past_close_1_day'] = data.groupby('name')['adjClose'].shift(1)\n",
    "data['past_trailing'] = data.groupby('name')['adjClose'].shift(trailing_days)\n",
    "data['return_1_day'] = data['adjClose']/data['past_close_1_day']-1\n",
    "data['return_trailing'] = data['adjClose']/data['past_trailing']-1\n",
    "names = data['name'].unique().tolist()\n",
    "all_sims = pandas.DataFrame()\n",
    "stock = data[numpy.logical_and(data['name']==symbol,numpy.logical_and(data.index<=model_end_date,data.index>=model_start_date))]['return_trailing'].dropna().tolist()\n",
    "init = data[numpy.logical_and(data['name']==symbol,data.index==fcst_start_date)]['adjClose'].iloc[0]\n",
    "stock_rounded = [round(i,3)*100 for i in stock]\n",
    "c = Counter(stock_rounded)\n",
    "return_combo = [(i, c[i] / len(stock_rounded) * 100.0) for i, count in c.most_common()]\n",
    "returns = [sublist[0] for sublist in return_combo]\n",
    "weights = numpy.array([sublist[1] for sublist in return_combo])\n",
    "weights /= weights.sum()\n",
    "\n",
    "for i in range(simulations):\n",
    "    draw = choice(returns,1,p=weights)\n",
    "    df = pandas.DataFrame(data={'return': draw})\n",
    "    all_sims = pandas.concat([all_sims,df])\n",
    "    \n",
    "all_sims['price_on_'+str(fcst_start_date)] = init\n",
    "all_sims['price_'+str(trailing_days)+'_days_later'] = all_sims['price_on_'+str(fcst_start_date)]*(1+(all_sims['return']/100))"
   ]
  },
  {
   "cell_type": "code",
   "execution_count": 23,
   "metadata": {},
   "outputs": [
    {
     "name": "stdout",
     "output_type": "stream",
     "text": [
      "Price on 2020-09-02: 135.39\n",
      "Mean percent return: 2%\n",
      "Standard deviation: 12%\n",
      "Best percent return simulation: 42%\n",
      "Worst percent return simulation: -41%\n",
      "% of simulations that were profitable: 60%\n"
     ]
    },
    {
     "data": {
      "image/png": "[encoded data removed]",
      "text/plain": [
       "<Figure size 432x288 with 1 Axes>"
      ]
     },
     "metadata": {
      "needs_background": "light"
     },
     "output_type": "display_data"
    }
   ],
   "source": [
    "print('Price on '+str(fcst_start_date)+': '+str(all_sims['price_on_'+str(fcst_start_date)].min()))\n",
    "print('Mean percent return: '+\"{:.0f}%\".format((all_sims['return']).mean()))\n",
    "print('Standard deviation: '+\"{:.0f}%\".format((all_sims['return']).std()))\n",
    "print('Best percent return simulation: '+\"{:.0f}%\".format((all_sims['return']).max()))\n",
    "print('Worst percent return simulation: '+\"{:.0f}%\".format((all_sims['return']).min()))\n",
    "print('% of simulations that were profitable: '+\"{:.0%}\".format(((all_sims['price_'+str(trailing_days)+'_days_later']>all_sims['price_on_'+str(fcst_start_date)]).sum()/simulations)))\n",
    "plt.hist(all_sims['price_'+str(trailing_days)+'_days_later'],bins='auto')\n",
    "plt.ylabel('occurances')\n",
    "plt.xlabel('ending_price')\n",
    "plt.show()"
   ]
  },
  {
   "cell_type": "code",
   "execution_count": 24,
   "metadata": {},
   "outputs": [
    {
     "name": "stdout",
     "output_type": "stream",
     "text": [
      "53%\n"
     ]
    }
   ],
   "source": [
    "test_mean = all_sims['price_'+str(trailing_days)+'_days_later'].mean()\n",
    "test_sigma = all_sims['price_'+str(trailing_days)+'_days_later'].std()\n",
    "probability_of_upto_num = \"{:.0%}\".format(st.norm.cdf((140-test_mean)/test_sigma))\n",
    "\n",
    "print(probability_of_upto_num)"
   ]
  }
 ],
 "metadata": {
  "kernelspec": {
   "display_name": "Python 3",
   "language": "python",
   "name": "python3"
  },
  "language_info": {
   "codemirror_mode": {
    "name": "ipython",
    "version": 3
   },
   "file_extension": ".py",
   "mimetype": "text/x-python",
   "name": "python",
   "nbconvert_exporter": "python",
   "pygments_lexer": "ipython3",
   "version": "3.7.4"
  }
 },
 "nbformat": 4,
 "nbformat_minor": 2
}
